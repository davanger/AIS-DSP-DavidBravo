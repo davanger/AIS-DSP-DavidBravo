{
 "cells": [
  {
   "cell_type": "code",
   "execution_count": 4,
   "metadata": {},
   "outputs": [],
   "source": [
    "from pathlib import Path\n",
    "\n",
    "import numpy as np\n",
    "import pandas as pd\n",
    "import matplotlib.pyplot as plt\n",
    "import seaborn as sns\n",
    "import random\n",
    "\n",
    "random.seed(42)\n",
    "\n",
    "pd.set_option(\"display.max_columns\", None)\n",
    "\n",
    "DATA_DIR = Path(\"../data/01_House_Prices_data\")\n",
    "MODELS_DIR = Path(\"../models/01_House_Prices_models\")\n",
    "filepath = DATA_DIR / \"train.csv\"\n",
    "\n",
    "target_column = \"SalePrice\""
   ]
  },
  {
   "cell_type": "code",
   "execution_count": 5,
   "metadata": {},
   "outputs": [],
   "source": [
    "import sys\n",
    "sys.path.append(\"..\")\n",
    "\n",
    "import app.preprocessing\n",
    "import app.training\n",
    "import app.pipeline"
   ]
  },
  {
   "cell_type": "markdown",
   "metadata": {},
   "source": [
    "# Dataset"
   ]
  },
  {
   "cell_type": "markdown",
   "metadata": {},
   "source": [
    "* Read dataset csv file"
   ]
  },
  {
   "cell_type": "code",
   "execution_count": 3,
   "metadata": {},
   "outputs": [],
   "source": [
    "df_master = pd.read_csv(filepath, index_col=\"Id\")\n",
    "df_master.head()\n",
    "\n",
    "df = df_master.copy()"
   ]
  },
  {
   "cell_type": "markdown",
   "metadata": {},
   "source": [
    "# Training pipeline\n",
    "## Train model"
   ]
  },
  {
   "cell_type": "code",
   "execution_count": 6,
   "metadata": {},
   "outputs": [
    {
     "output_type": "stream",
     "name": "stdout",
     "text": [
      "Training_score :  0.909642562126431\n",
      "Test_score :  0.909642562126431\n",
      "Log RMSE :  0.1136884511815776\n",
      "/Users/dbravo/opt/anaconda3/envs/EPI_DS_Prod/lib/python3.9/site-packages/sklearn/utils/validation.py:515: UserWarning: pandas.DataFrame with sparse columns found.It will be converted to a dense numpy array.\n",
      "  warnings.warn(\n",
      "/Users/dbravo/opt/anaconda3/envs/EPI_DS_Prod/lib/python3.9/site-packages/sklearn/utils/validation.py:515: UserWarning: pandas.DataFrame with sparse columns found.It will be converted to a dense numpy array.\n",
      "  warnings.warn(\n",
      "/Users/dbravo/opt/anaconda3/envs/EPI_DS_Prod/lib/python3.9/site-packages/sklearn/utils/validation.py:515: UserWarning: pandas.DataFrame with sparse columns found.It will be converted to a dense numpy array.\n",
      "  warnings.warn(\n",
      "/Users/dbravo/opt/anaconda3/envs/EPI_DS_Prod/lib/python3.9/site-packages/sklearn/utils/validation.py:515: UserWarning: pandas.DataFrame with sparse columns found.It will be converted to a dense numpy array.\n",
      "  warnings.warn(\n"
     ]
    }
   ],
   "source": [
    "model, ohe_encoder = app.pipeline.training_pipeline(df)"
   ]
  },
  {
   "source": [
    "## Save model to a file"
   ],
   "cell_type": "markdown",
   "metadata": {}
  },
  {
   "cell_type": "code",
   "execution_count": 7,
   "metadata": {},
   "outputs": [],
   "source": [
    "model_filename = \"House_Prices.sav\"\n",
    "model_filepath = MODELS_DIR / model_filename\n",
    "test_filepath = DATA_DIR / \"test.csv\"\n",
    "\n",
    "app.pipeline.save_model(model, model_filepath)"
   ]
  },
  {
   "source": [
    "## Load test data"
   ],
   "cell_type": "markdown",
   "metadata": {}
  },
  {
   "cell_type": "code",
   "execution_count": 8,
   "metadata": {},
   "outputs": [],
   "source": [
    "test_df_master = pd.read_csv(test_filepath, index_col=\"Id\")\n",
    "test_df = df_master.copy()"
   ]
  },
  {
   "source": [
    "# Inference pipeline\n",
    "Load model and predict using test data, model and previously used encoder for the preprocessing. Write submission file."
   ],
   "cell_type": "markdown",
   "metadata": {}
  },
  {
   "cell_type": "code",
   "execution_count": 11,
   "metadata": {},
   "outputs": [
    {
     "output_type": "stream",
     "name": "stderr",
     "text": [
      "/Users/dbravo/opt/anaconda3/envs/EPI_DS_Prod/lib/python3.9/site-packages/sklearn/utils/validation.py:515: UserWarning: pandas.DataFrame with sparse columns found.It will be converted to a dense numpy array.\n  warnings.warn(\n"
     ]
    }
   ],
   "source": [
    "app.pipeline.inference_pipeline(test_df, model_filepath, ohe_encoder, DATA_DIR)"
   ]
  },
  {
   "cell_type": "code",
   "execution_count": null,
   "metadata": {},
   "outputs": [],
   "source": []
  }
 ],
 "metadata": {
  "kernelspec": {
   "name": "epi_ds_prod",
   "display_name": "Python 3.9.2 64-bit ('EPI_DS_Prod': conda)"
  },
  "language_info": {
   "codemirror_mode": {
    "name": "ipython",
    "version": 3
   },
   "file_extension": ".py",
   "mimetype": "text/x-python",
   "name": "python",
   "nbconvert_exporter": "python",
   "pygments_lexer": "ipython3",
   "version": "3.9.2"
  }
 },
 "nbformat": 4,
 "nbformat_minor": 4
}